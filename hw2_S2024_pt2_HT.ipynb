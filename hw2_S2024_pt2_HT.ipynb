{
 "cells": [
  {
   "cell_type": "markdown",
   "metadata": {},
   "source": [
    "# Homework 2\n",
    "\n",
    "(Total: 50pt)\n",
    "\n",
    "This is an individual assignment.\n",
    "Related knowledge:\n",
    "- Bayes theorem\n",
    "- Independence\n",
    "- Combinatorics\n"
   ]
  },
  {
   "cell_type": "markdown",
   "metadata": {},
   "source": [
    "## Problem 1\n",
    "\n",
    "(20 pt)\n",
    "\n",
    "Implement a function to evaluate the relative frequency of a batch being accepted if it contains $k$ defectives.\n",
    "\n",
    "A batch of one hundred items is inspected by testing four randomly selected items.\n",
    "If one of the four is defective, the batch is rejected. What is the probability that the batch is\n",
    "accepted if it contains five defectives?"
   ]
  },
  {
   "cell_type": "code",
   "execution_count": 12,
   "metadata": {},
   "outputs": [],
   "source": [
    "import numpy as np\n",
    "import numpy.random as npr\n",
    "import random"
   ]
  },
  {
   "cell_type": "code",
   "execution_count": 128,
   "metadata": {},
   "outputs": [
    {
     "name": "stdout",
     "output_type": "stream",
     "text": [
      "Relative Frequency:  0.821\n"
     ]
    }
   ],
   "source": [
    "def rejectk(k=5, batchnum=100): #k= the number of defectives in the batch\n",
    "    num_sims = 1000\n",
    "    # Create a list of items using booleans, 0 for non-defective, 1 for defective, that represets the batch.\n",
    "    batch = []\n",
    "    result = []\n",
    "    counter = 0\n",
    "    reject = ['D','N']\n",
    "    for i in range(batchnum):\n",
    "        temp = random.choice(reject)\n",
    "        if temp == 'D' and counter < 5:\n",
    "            counter += 1\n",
    "            batch += [1]\n",
    "        else:\n",
    "            batch += [0]\n",
    "            \n",
    "    for sim in range(num_sims):\n",
    "        check = 'Approve'\n",
    "        # implement sampling from the batch.\n",
    "        for i in range(4):\n",
    "            if batch[npr.randint(100)] == 1:\n",
    "                check = 'defective'\n",
    "                break\n",
    "        # determine if it shall be rejected.\n",
    "        if check == 'defective':\n",
    "            result += [0]\n",
    "        else:\n",
    "            result += [1]\n",
    "    \n",
    "\n",
    "    #calculate and print out the relative frequency.\n",
    "    print('Relative Frequency: ', np.sum(result)/len(result))\n",
    "    \n",
    "rejectk()"
   ]
  },
  {
   "cell_type": "markdown",
   "metadata": {},
   "source": [
    "## Problem 2\n",
    "\n",
    "(20 pt)\n",
    "\n",
    "**Suppose you have an assortment of coins: 51 coins each with probability of flipping heads $p$, in the interval $[0.3,0.8]$, defined below:**"
   ]
  },
  {
   "cell_type": "code",
   "execution_count": 131,
   "metadata": {},
   "outputs": [
    {
     "data": {
      "text/plain": [
       "array([0.3 , 0.31, 0.32, 0.33, 0.34, 0.35, 0.36, 0.37, 0.38, 0.39, 0.4 ,\n",
       "       0.41, 0.42, 0.43, 0.44, 0.45, 0.46, 0.47, 0.48, 0.49, 0.5 , 0.51,\n",
       "       0.52, 0.53, 0.54, 0.55, 0.56, 0.57, 0.58, 0.59, 0.6 , 0.61, 0.62,\n",
       "       0.63, 0.64, 0.65, 0.66, 0.67, 0.68, 0.69, 0.7 , 0.71, 0.72, 0.73,\n",
       "       0.74, 0.75, 0.76, 0.77, 0.78, 0.79, 0.8 ])"
      ]
     },
     "execution_count": 131,
     "metadata": {},
     "output_type": "execute_result"
    }
   ],
   "source": [
    "import numpy as np\n",
    "allcoins = np.linspace(0.3,0.8,51)  # set of coins\n",
    "\n",
    "allcoins"
   ]
  },
  {
   "cell_type": "markdown",
   "metadata": {},
   "source": [
    "Consider the experiment where you pick a coin at random and flip it 8 times, and the event \"all tails\" occurs. \n",
    "\n",
    " **What is the probability that the coin has a probability of tail smaller than 0.5?**\n",
    " \n",
    "Implement simulation to evaluate the relative frequency\n"
   ]
  },
  {
   "cell_type": "code",
   "execution_count": 132,
   "metadata": {},
   "outputs": [
    {
     "name": "stdout",
     "output_type": "stream",
     "text": [
      "Relative Frequency:  0.39215686274509803\n"
     ]
    }
   ],
   "source": [
    "count = 0\n",
    "for i in range(len(allcoins)):\n",
    "    if allcoins[i] < 0.5:\n",
    "        count += 1\n",
    "print('Relative Frequency: ', count/len(allcoins))"
   ]
  },
  {
   "cell_type": "markdown",
   "metadata": {},
   "source": [
    "## Problem 3\n",
    "\n",
    "(5 pt)\n",
    "Using python to perform the counting\n",
    "\n",
    "\n",
    "How many ways can one arrange 4 math books, 3 chemistry books, 2 physics\n",
    "books, and 1 biology book on a bookshelf so that all the math books are together, all the\n",
    "chemistry books are together, and all the physics books are together?"
   ]
  },
  {
   "cell_type": "code",
   "execution_count": 158,
   "metadata": {},
   "outputs": [
    {
     "name": "stdout",
     "output_type": "stream",
     "text": [
      "6912\n"
     ]
    }
   ],
   "source": [
    "import math\n",
    "blocks = math.factorial(4)\n",
    "math_b = math.factorial(4)\n",
    "chem = math.factorial(3)\n",
    "phy = math.factorial(2)\n",
    "bio = 1\n",
    "\n",
    "print(blocks*math_b*chem*phy*bio)"
   ]
  },
  {
   "cell_type": "markdown",
   "metadata": {},
   "source": [
    "## Problem 4\n",
    "(5 pt) Using python to perform the counting\n",
    "\n",
    "Suppose there are 10 men and 8 women. How many ways can we choose a committee that has 2 men and 2 women? "
   ]
  },
  {
   "cell_type": "code",
   "execution_count": 162,
   "metadata": {},
   "outputs": [
    {
     "data": {
      "text/plain": [
       "1260"
      ]
     },
     "execution_count": 162,
     "metadata": {},
     "output_type": "execute_result"
    }
   ],
   "source": [
    "import math\n",
    "men = math.comb(10,2)\n",
    "women = math.comb(8,2)\n",
    "\n",
    "men*women"
   ]
  },
  {
   "cell_type": "markdown",
   "metadata": {},
   "source": [
    "# Submit Your Solutions\n",
    "\n",
    "Confirm that you've successfully completed the assignment.\n",
    "submit both the notebook files and a PDF printout"
   ]
  },
  {
   "cell_type": "code",
   "execution_count": null,
   "metadata": {},
   "outputs": [],
   "source": []
  }
 ],
 "metadata": {
  "kernelspec": {
   "display_name": "Python 3 (ipykernel)",
   "language": "python",
   "name": "python3"
  },
  "language_info": {
   "codemirror_mode": {
    "name": "ipython",
    "version": 3
   },
   "file_extension": ".py",
   "mimetype": "text/x-python",
   "name": "python",
   "nbconvert_exporter": "python",
   "pygments_lexer": "ipython3",
   "version": "3.10.9"
  },
  "latex_envs": {
   "LaTeX_envs_menu_present": true,
   "autoclose": false,
   "autocomplete": true,
   "bibliofile": "biblio.bib",
   "cite_by": "apalike",
   "current_citInitial": 1,
   "eqLabelWithNumbers": true,
   "eqNumInitial": 1,
   "hotkeys": {
    "equation": "Ctrl-E",
    "itemize": "Ctrl-I"
   },
   "labels_anchors": false,
   "latex_user_defs": false,
   "report_style_numbering": false,
   "user_envs_cfg": false
  },
  "varInspector": {
   "cols": {
    "lenName": 16,
    "lenType": 16,
    "lenVar": 40
   },
   "kernels_config": {
    "python": {
     "delete_cmd_postfix": "",
     "delete_cmd_prefix": "del ",
     "library": "var_list.py",
     "varRefreshCmd": "print(var_dic_list())"
    },
    "r": {
     "delete_cmd_postfix": ") ",
     "delete_cmd_prefix": "rm(",
     "library": "var_list.r",
     "varRefreshCmd": "cat(var_dic_list()) "
    }
   },
   "types_to_exclude": [
    "module",
    "function",
    "builtin_function_or_method",
    "instance",
    "_Feature"
   ],
   "window_display": false
  }
 },
 "nbformat": 4,
 "nbformat_minor": 4
}
