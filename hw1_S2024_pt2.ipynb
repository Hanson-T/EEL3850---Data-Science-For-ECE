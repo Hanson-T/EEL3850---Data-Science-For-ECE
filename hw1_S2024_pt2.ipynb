{
 "cells": [
  {
   "cell_type": "markdown",
   "metadata": {},
   "source": [
    "# Homework 1 Part 2\n",
    "\n",
    "\n",
    "This is an individual assignment.\n",
    "\n",
    "Name: Hanson Tang"
   ]
  },
  {
   "cell_type": "markdown",
   "metadata": {},
   "source": [
    "## Description\n",
    "\n",
    "Create or edit this Jupyter Notebook to answer the questions below. Use simulations to answer these questions. An analytical solution can be useful to check if your simulation is correct but analytical solutions alone will not be accepted as a solution to a problem."
   ]
  },
  {
   "cell_type": "markdown",
   "metadata": {},
   "source": [
    "## Problem 1\n",
    "\n",
    "Consider repeatedly rolling a fair 4-sided die.\n",
    "\n",
    "1. Create a simulation to compute the probability that the top face will be 4 at least once on four rolls of the die?\n",
    "2. Create a simulation to compute the probability that the top face will be 4 at least once on 20 rolls of the die?\n",
    "3. Create a simulation to compute how many rolls of the die would you have to do to be 90% confident that you would see at least one 4?\n",
    "4. Using the formula you have computed in problem 2 part 4, make a Python function that takes in the target value $p$ and outputs the required number of rolls of an integer. \n",
    "    1. Find the values for $p=0.95$ and $p=0.99$. \n",
    "    2. Use your simulation to verify that the number of rolls you specified is sufficient to achieve $p\\geq 0.95$."
   ]
  },
  {
   "cell_type": "code",
   "execution_count": 2,
   "metadata": {},
   "outputs": [],
   "source": [
    "import random\n",
    "import numpy as np\n",
    "import numpy.random as npr\n",
    "import matplotlib.pyplot as plt\n",
    "%matplotlib inline\n",
    "plt.style.use('bmh')"
   ]
  },
  {
   "cell_type": "code",
   "execution_count": 32,
   "metadata": {},
   "outputs": [
    {
     "name": "stdout",
     "output_type": "stream",
     "text": [
      "Prob of rolling a 4 atleast once:  0.6811\n"
     ]
    }
   ],
   "source": [
    "#1)\n",
    "sims = 10000\n",
    "rolls = 4\n",
    "counter = 0\n",
    "trigger = 0\n",
    "for i in range(sims):\n",
    "    for j in range(rolls):\n",
    "        die = random.choice([1,2,3,4])\n",
    "        if die == 4:\n",
    "            trigger = 1\n",
    "    if trigger == 1:\n",
    "        trigger = 0\n",
    "        counter += 1\n",
    "print('Prob of rolling a 4 atleast once: ', counter/sims)"
   ]
  },
  {
   "cell_type": "code",
   "execution_count": 34,
   "metadata": {},
   "outputs": [
    {
     "name": "stdout",
     "output_type": "stream",
     "text": [
      "Prob of rolling a 4 atleast once:  0.9967\n"
     ]
    }
   ],
   "source": [
    "#2)\n",
    "sims = 10000\n",
    "rolls = 20\n",
    "counter = 0\n",
    "trigger = 0\n",
    "for i in range(sims):\n",
    "    for j in range(rolls):\n",
    "        die = random.choice([1,2,3,4])\n",
    "        if die == 4:\n",
    "            trigger = 1\n",
    "    if trigger == 1:\n",
    "        trigger = 0\n",
    "        counter += 1\n",
    "print('Prob of rolling a 4 atleast once: ', counter/sims)"
   ]
  },
  {
   "cell_type": "code",
   "execution_count": 29,
   "metadata": {},
   "outputs": [
    {
     "name": "stdout",
     "output_type": "stream",
     "text": [
      "90% confidence of rolling 4 atleast once:  9\n"
     ]
    }
   ],
   "source": [
    "#3)\n",
    "sims = 10000\n",
    "probability = 0\n",
    "rolls = []\n",
    "for i in range(sims):\n",
    "    roll_counter = 0\n",
    "    die = 0\n",
    "    while die != 4:\n",
    "        die = random.choice([1,2,3,4])\n",
    "        roll_counter += 1\n",
    "    rolls = rolls + [roll_counter]\n",
    "for j in range(sims):\n",
    "    probability += rolls.count(j)/sims\n",
    "    if probability > 0.9:\n",
    "        print('90% confidence of rolling 4 atleast once: ', j)\n",
    "        break\n"
   ]
  },
  {
   "cell_type": "code",
   "execution_count": 37,
   "metadata": {},
   "outputs": [
    {
     "name": "stdout",
     "output_type": "stream",
     "text": [
      "95% confidence of rolling 4 atleast once:  11\n",
      "99% confidence of rolling 4 atleast once:  17\n"
     ]
    }
   ],
   "source": [
    "#4a)\n",
    "sims = 100000\n",
    "probability = 0\n",
    "rolls = []\n",
    "trigger = 0\n",
    "for i in range(sims):\n",
    "    roll_counter = 0\n",
    "    die = 0\n",
    "    while die != 4:\n",
    "        die = random.choice([1,2,3,4])\n",
    "        roll_counter += 1\n",
    "    rolls = rolls + [roll_counter]\n",
    "for j in range(sims):\n",
    "    probability += rolls.count(j)/sims\n",
    "    if probability > 0.95 and trigger == 0:\n",
    "        p95 = j\n",
    "        trigger = 1\n",
    "    if probability > 0.99:\n",
    "        print('95% confidence of rolling 4 atleast once: ', p95)\n",
    "        print('99% confidence of rolling 4 atleast once: ', j)\n",
    "        break\n"
   ]
  },
  {
   "cell_type": "markdown",
   "metadata": {},
   "source": [
    "## Problem 2\n",
    "\n",
    "Create a simulation function where you will roll a fair 6-sided die twice. Use simulation to find out the probability of getting a 4 or 6 on the first toss and a 1,2,3, or 5 on the second toss. "
   ]
  },
  {
   "cell_type": "code",
   "execution_count": 51,
   "metadata": {},
   "outputs": [
    {
     "name": "stdout",
     "output_type": "stream",
     "text": [
      "Prob of getting a 4 or 6 on the first toss and a 1,2,3, or 5 on the second toss:  0.2227\n"
     ]
    }
   ],
   "source": [
    "sims = 10000\n",
    "rolls = 2\n",
    "counter = 0\n",
    "for i in range(sims):\n",
    "    trigger1 = 0\n",
    "    trigger2 = 0\n",
    "    for j in range(rolls):\n",
    "        die = random.choice([1,2,3,4,5,6])\n",
    "        if j == 0 and (die == 4 or die == 6):\n",
    "            trigger1 = 1\n",
    "        if j == 1 and (die == 1 or die == 2 or die == 3 or die == 5):\n",
    "            trigger2 = 1\n",
    "    if trigger1 == 1 and trigger2 == 1:\n",
    "        counter += 1\n",
    "print('Prob of getting a 4 or 6 on the first toss and a 1,2,3, or 5 on the second toss: ', counter/sims)"
   ]
  },
  {
   "cell_type": "markdown",
   "metadata": {},
   "source": [
    "## Problem 3\n",
    "\n",
    "Suppose that you have a bag with 3 coins. One of them is a fair coin, but the others are biased trick coins. When flipped, the three coins come up heads with probability $\\frac{1}{2}$, $\\frac{1}{4}$, and $\\frac{1}{6}$, respectively.\n",
    "\n",
    "Consider the experiment where you pick one coin at random and flip it three times. Let $H_i$ be the event that the coin comes up heads on flip $i$. What is the probability of the outcome $H_1\\cap H_2\\cap \\overline{H_3}$?\n",
    "\n",
    "With small modification in your code, find out the probability of the outcome $H_1\\cap \\overline{H_2} \\cap \\overline{H_3}$.\n",
    "\n",
    "Use simulation to find out the probability."
   ]
  },
  {
   "cell_type": "code",
   "execution_count": 166,
   "metadata": {},
   "outputs": [
    {
     "name": "stdout",
     "output_type": "stream",
     "text": [
      "Prob of H1 and H2 and ~H3 is:  0.056\n",
      "Prob of H1 and ~H2 and ~H3 is:  0.1952\n"
     ]
    }
   ],
   "source": [
    "sims = 10000\n",
    "rolls = 3\n",
    "counter = 0\n",
    "\n",
    "for i in range(sims):\n",
    "    coin_type = random.choice([1/2,1/4,1/6])\n",
    "    side1 = random.choices(['H','T'], [coin_type,1-coint_type])\n",
    "    if side1 == ['H']:\n",
    "        side2 = random.choices(['H','T'], [coin_type,1-coint_type])\n",
    "        if side2 == ['H']:\n",
    "            side3 = random.choices(['H','T'], [coin_type,1-coint_type])\n",
    "            if side3 == ['T']:\n",
    "                counter += 1\n",
    "print('Prob of H1 and H2 and ~H3 is: ', counter/sims)\n",
    "    \n",
    "for i in range(sims):\n",
    "    coin_type = random.choice([1/2,1/4,1/6])\n",
    "    side1 = random.choices(['H','T'], [coin_type,1-coint_type])\n",
    "    if side1 == ['H']:\n",
    "        side2 = random.choices(['H','T'], [coin_type,1-coint_type])\n",
    "        if side2 == ['T']:\n",
    "            side3 = random.choices(['H','T'], [coin_type,1-coint_type])\n",
    "            if side3 == ['T']:\n",
    "                counter += 1\n",
    "print('Prob of H1 and ~H2 and ~H3 is: ', counter/sims)"
   ]
  },
  {
   "cell_type": "markdown",
   "metadata": {},
   "source": [
    "# Submit Your Solutions\n",
    "\n",
    "Confirm that you've successfully completed the assignment.\n",
    "\n",
    "Along with the Notebook, include a PDF of the notebook with your solutions.\n",
    "\n",
    "```add``` and ```commit``` the final version of your work, and ```push``` your PDF file to your GitHub repository.\n",
    "\n",
    "Submit the URL of your GitHub Repository as your assignment submission on Canvas."
   ]
  }
 ],
 "metadata": {
  "kernelspec": {
   "display_name": "Python 3 (ipykernel)",
   "language": "python",
   "name": "python3"
  },
  "language_info": {
   "codemirror_mode": {
    "name": "ipython",
    "version": 3
   },
   "file_extension": ".py",
   "mimetype": "text/x-python",
   "name": "python",
   "nbconvert_exporter": "python",
   "pygments_lexer": "ipython3",
   "version": "3.10.9"
  },
  "latex_envs": {
   "LaTeX_envs_menu_present": true,
   "autoclose": false,
   "autocomplete": true,
   "bibliofile": "biblio.bib",
   "cite_by": "apalike",
   "current_citInitial": 1,
   "eqLabelWithNumbers": true,
   "eqNumInitial": 1,
   "hotkeys": {
    "equation": "Ctrl-E",
    "itemize": "Ctrl-I"
   },
   "labels_anchors": false,
   "latex_user_defs": false,
   "report_style_numbering": false,
   "user_envs_cfg": false
  },
  "varInspector": {
   "cols": {
    "lenName": 16,
    "lenType": 16,
    "lenVar": 40
   },
   "kernels_config": {
    "python": {
     "delete_cmd_postfix": "",
     "delete_cmd_prefix": "del ",
     "library": "var_list.py",
     "varRefreshCmd": "print(var_dic_list())"
    },
    "r": {
     "delete_cmd_postfix": ") ",
     "delete_cmd_prefix": "rm(",
     "library": "var_list.r",
     "varRefreshCmd": "cat(var_dic_list()) "
    }
   },
   "types_to_exclude": [
    "module",
    "function",
    "builtin_function_or_method",
    "instance",
    "_Feature"
   ],
   "window_display": false
  }
 },
 "nbformat": 4,
 "nbformat_minor": 4
}
